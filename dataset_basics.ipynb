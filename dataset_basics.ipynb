{
 "cells": [
  {
   "cell_type": "markdown",
   "id": "53b6c977-6daf-46c8-aab2-b0568350e0cc",
   "metadata": {},
   "source": [
    "# First steps with seisbench\n",
    "\n",
    "https://github.com/seisbench/seisbench"
   ]
  },
  {
   "cell_type": "code",
   "execution_count": 1,
   "id": "23cdf2b0-46a9-4cad-b64f-5313aedbca31",
   "metadata": {},
   "outputs": [
    {
     "name": "stdout",
     "output_type": "stream",
     "text": [
      "\n",
      "CondaValueError: prefix already exists: /srv/conda/envs/seisbench\n",
      "\n"
     ]
    }
   ],
   "source": [
    "# Install seisbench + pytorch-CPU + other helpful things\n",
    "# NOTE: will create 'seisbench' python kernel to run this notebook\n",
    "!mamba env create"
   ]
  },
  {
   "cell_type": "markdown",
   "id": "ff08d4b4-29d5-4570-9d4c-6180cbe53390",
   "metadata": {},
   "source": [
    "# Model API\n",
    "\n",
    "https://colab.research.google.com/github/seisbench/seisbench/blob/main/examples/01b_model_api.ipynb#scrollTo=64a80d07"
   ]
  },
  {
   "cell_type": "code",
   "execution_count": 1,
   "id": "8d507254-f5e0-4e0d-8c31-e57ffafec999",
   "metadata": {},
   "outputs": [],
   "source": [
    "import seisbench\n",
    "import seisbench.models as sbm"
   ]
  },
  {
   "cell_type": "code",
   "execution_count": 3,
   "id": "bccc554b-4a22-41f8-87b1-2932f3e7a4df",
   "metadata": {},
   "outputs": [
    {
     "name": "stdout",
     "output_type": "stream",
     "text": [
      "0.1.10\n"
     ]
    }
   ],
   "source": [
    "# keep track of versions\n",
    "print(seisbench.__version__)"
   ]
  },
  {
   "cell_type": "code",
   "execution_count": 4,
   "id": "9d167f66-ab86-4951-8d90-4c7c5c5d31c9",
   "metadata": {},
   "outputs": [
    {
     "name": "stdout",
     "output_type": "stream",
     "text": [
      "Component order:\tZNE\n",
      "SeisBench model\t\tGPD\n",
      "\n",
      "GPD(\n",
      "  (conv1): Conv1d(3, 32, kernel_size=(21,), stride=(1,), padding=(10,))\n",
      "  (bn1): BatchNorm1d(32, eps=0.001, momentum=0.1, affine=True, track_running_stats=True)\n",
      "  (conv2): Conv1d(32, 64, kernel_size=(15,), stride=(1,), padding=(7,))\n",
      "  (bn2): BatchNorm1d(64, eps=0.001, momentum=0.1, affine=True, track_running_stats=True)\n",
      "  (conv3): Conv1d(64, 128, kernel_size=(11,), stride=(1,), padding=(5,))\n",
      "  (bn3): BatchNorm1d(128, eps=0.001, momentum=0.1, affine=True, track_running_stats=True)\n",
      "  (conv4): Conv1d(128, 256, kernel_size=(9,), stride=(1,), padding=(4,))\n",
      "  (bn4): BatchNorm1d(256, eps=0.001, momentum=0.1, affine=True, track_running_stats=True)\n",
      "  (fc1): Linear(in_features=6400, out_features=200, bias=True)\n",
      "  (bn5): BatchNorm1d(200, eps=0.001, momentum=0.1, affine=True, track_running_stats=True)\n",
      "  (fc2): Linear(in_features=200, out_features=200, bias=True)\n",
      "  (bn6): BatchNorm1d(200, eps=0.001, momentum=0.1, affine=True, track_running_stats=True)\n",
      "  (fc3): Linear(in_features=200, out_features=3, bias=True)\n",
      "  (pool): MaxPool1d(kernel_size=2, stride=2, padding=0, dilation=1, ceil_mode=False)\n",
      ")\n"
     ]
    }
   ],
   "source": [
    "model = sbm.GPD()\n",
    "print(model)"
   ]
  },
  {
   "cell_type": "code",
   "execution_count": 5,
   "id": "d7f35b66-4e3c-4637-b57e-31cf9292300d",
   "metadata": {},
   "outputs": [
    {
     "name": "stdout",
     "output_type": "stream",
     "text": [
      "tensor([[0.3555, 0.3272, 0.3173]])\n"
     ]
    }
   ],
   "source": [
    "import torch\n",
    "\n",
    "x = torch.rand(1, 3, 400)  # 1 example, 3 components, 400 samples\n",
    "model.eval()\n",
    "with torch.no_grad():\n",
    "    print(model(x))"
   ]
  },
  {
   "cell_type": "code",
   "execution_count": 6,
   "id": "abc9b0ed-7841-42f1-a00f-8f5743a8ae9e",
   "metadata": {},
   "outputs": [
    {
     "name": "stdout",
     "output_type": "stream",
     "text": [
      "1.10.0\n"
     ]
    }
   ],
   "source": [
    "print(torch.__version__)"
   ]
  },
  {
   "cell_type": "code",
   "execution_count": 7,
   "id": "8fbd63be-9db8-4a82-98ac-305609cc6f66",
   "metadata": {},
   "outputs": [
    {
     "name": "stdout",
     "output_type": "stream",
     "text": [
      "dummy:\n",
      "Randomly initialized model without any training. Just for debug purpose.\n",
      "\n",
      "Jannes Münchmeyer (munchmej@gfz-potsdam.de)\n",
      "-----------------------\n",
      "\n",
      "ethz:\n",
      "Model trained on ETHZ for 100 epochs with a learning rate of 0.001.\n",
      "Threshold selected for optimal F1 score on in-domain evaluation. Depending on the target region, the thresholds might need to be adjusted.\n",
      "When using this model, please reference the SeisBench publications listed at https://github.com/seisbench/seisbench\n",
      "\n",
      "Jannes Münchmeyer, Jack Woollam (munchmej@gfz-potsdam.de, jack.woollam@kit.edu)\n",
      "-----------------------\n",
      "\n",
      "geofon:\n",
      "Model trained on GEOFON for 100 epochs with a learning rate of 0.001.\n",
      "Threshold selected for optimal F1 score on in-domain evaluation. Depending on the target region, the thresholds might need to be adjusted.\n",
      "When using this model, please reference the SeisBench publications listed at https://github.com/seisbench/seisbench\n",
      "\n",
      "Jannes Münchmeyer, Jack Woollam (munchmej@gfz-potsdam.de, jack.woollam@kit.edu)\n",
      "-----------------------\n",
      "\n",
      "instance:\n",
      "Model trained on INSTANCE for 100 epochs with a learning rate of 0.001.\n",
      "Threshold selected for optimal F1 score on in-domain evaluation. Depending on the target region, the thresholds might need to be adjusted.\n",
      "When using this model, please reference the SeisBench publications listed at https://github.com/seisbench/seisbench\n",
      "\n",
      "Jannes Münchmeyer, Jack Woollam (munchmej@gfz-potsdam.de, jack.woollam@kit.edu)\n",
      "-----------------------\n",
      "\n",
      "iquique:\n",
      "Model trained on Iquique for 100 epochs with a learning rate of 0.01.\n",
      "Threshold selected for optimal F1 score on in-domain evaluation. Depending on the target region, the thresholds might need to be adjusted.\n",
      "When using this model, please reference the SeisBench publications listed at https://github.com/seisbench/seisbench\n",
      "\n",
      "Jannes Münchmeyer, Jack Woollam (munchmej@gfz-potsdam.de, jack.woollam@kit.edu)\n",
      "-----------------------\n",
      "\n",
      "lendb:\n",
      "Model trained on LenDB for 100 epochs with a learning rate of 0.0001.\n",
      "Threshold selected for optimal F1 score on in-domain evaluation. Depending on the target region, the thresholds might need to be adjusted.\n",
      "When using this model, please reference the SeisBench publications listed at https://github.com/seisbench/seisbench\n",
      "\n",
      "Jannes Münchmeyer, Jack Woollam (munchmej@gfz-potsdam.de, jack.woollam@kit.edu)\n",
      "-----------------------\n",
      "\n",
      "neic:\n",
      "Model trained on NEIC for 100 epochs with a learning rate of 0.001.\n",
      "Threshold selected for optimal F1 score on in-domain evaluation. Depending on the target region, the thresholds might need to be adjusted.\n",
      "When using this model, please reference the SeisBench publications listed at https://github.com/seisbench/seisbench\n",
      "\n",
      "Jannes Münchmeyer, Jack Woollam (munchmej@gfz-potsdam.de, jack.woollam@kit.edu)\n",
      "-----------------------\n",
      "\n",
      "original:\n",
      "Original GPD model from Ross et al. (2018). Originally published under MIT License. Original available at https://github.com/interseismic/generalized-phase-detection/blob/ea81ef17d204797de6a99d277fd2b9407fc77df7/model_pol_best.hdf5 . \n",
      "\n",
      "Converted to SeisBench by Jannes Münchmeyer (munchmej@gfz-potsdam.de)\n",
      "-----------------------\n",
      "\n",
      "scedc:\n",
      "Model trained on SCEDC for 100 epochs with a learning rate of 0.001.\n",
      "Threshold selected for optimal F1 score on in-domain evaluation. Depending on the target region, the thresholds might need to be adjusted.\n",
      "When using this model, please reference the SeisBench publications listed at https://github.com/seisbench/seisbench\n",
      "\n",
      "Jannes Münchmeyer, Jack Woollam (munchmej@gfz-potsdam.de, jack.woollam@kit.edu)\n",
      "-----------------------\n",
      "\n",
      "stead:\n",
      "Model trained on STEAD for 100 epochs with a learning rate of 0.001.\n",
      "Threshold selected for optimal F1 score on in-domain evaluation. Depending on the target region, the thresholds might need to be adjusted.\n",
      "When using this model, please reference the SeisBench publications listed at https://github.com/seisbench/seisbench\n",
      "\n",
      "Jannes Münchmeyer, Jack Woollam (munchmej@gfz-potsdam.de, jack.woollam@kit.edu)\n",
      "-----------------------\n",
      "\n"
     ]
    }
   ],
   "source": [
    "pretrained_weights = sbm.GPD.list_pretrained(details=True)\n",
    "for key, value in pretrained_weights.items():\n",
    "    print(f\"{key}:\\n{value}\\n-----------------------\\n\")"
   ]
  },
  {
   "cell_type": "code",
   "execution_count": 8,
   "id": "a93ee7b6-24d3-4ea4-9619-f7b16fadb2c1",
   "metadata": {},
   "outputs": [
    {
     "name": "stdout",
     "output_type": "stream",
     "text": [
      "Original GPD model from Ross et al. (2018). Originally published under MIT License. Original available at https://github.com/interseismic/generalized-phase-detection/blob/ea81ef17d204797de6a99d277fd2b9407fc77df7/model_pol_best.hdf5 . \n",
      "\n",
      "Converted to SeisBench by Jannes Münchmeyer (munchmej@gfz-potsdam.de)\n"
     ]
    }
   ],
   "source": [
    "model = sbm.GPD.from_pretrained(\"original\")\n",
    "print(model.weights_docstring)"
   ]
  },
  {
   "cell_type": "code",
   "execution_count": 9,
   "id": "7ab7fc94-0efb-4076-a50d-8966437caef9",
   "metadata": {},
   "outputs": [
    {
     "data": {
      "image/png": "[encoded data removed]",
      "text/plain": [
       "<Figure size 1080x360 with 1 Axes>"
      ]
     },
     "metadata": {
      "needs_background": "light"
     },
     "output_type": "display_data"
    }
   ],
   "source": [
    "from obspy.clients.fdsn import Client\n",
    "from obspy import UTCDateTime\n",
    "import matplotlib.pyplot as plt\n",
    "\n",
    "client = Client(\"GFZ\")\n",
    "\n",
    "t = UTCDateTime(\"2007/01/02 05:48:50\")\n",
    "stream = client.get_waveforms(network=\"CX\", station=\"PB01\", location=\"*\", channel=\"HH?\", starttime=t-100, endtime=t+100)\n",
    "\n",
    "fig = plt.figure(figsize=(15, 5))\n",
    "ax = fig.add_subplot(111)\n",
    "for i in range(3):\n",
    "    ax.plot(stream[i].times(), stream[i].data, label=stream[i].stats.channel)\n",
    "ax.legend();"
   ]
  },
  {
   "cell_type": "code",
   "execution_count": null,
   "id": "428cbc14-4d84-4173-9ed1-10cbf6f00138",
   "metadata": {},
   "outputs": [],
   "source": []
  }
 ],
 "metadata": {
  "kernelspec": {
   "display_name": "Python [conda env:seisbench]",
   "language": "python",
   "name": "conda-env-seisbench-py"
  },
  "language_info": {
   "codemirror_mode": {
    "name": "ipython",
    "version": 3
   },
   "file_extension": ".py",
   "mimetype": "text/x-python",
   "name": "python",
   "nbconvert_exporter": "python",
   "pygments_lexer": "ipython3",
   "version": "3.9.9"
  }
 },
 "nbformat": 4,
 "nbformat_minor": 5
}
